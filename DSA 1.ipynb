{
 "cells": [
  {
   "cell_type": "code",
   "execution_count": 3,
   "id": "16702d09",
   "metadata": {},
   "outputs": [
    {
     "name": "stdout",
     "output_type": "stream",
     "text": [
      "7\n",
      "28\n"
     ]
    }
   ],
   "source": [
    "ans = 0\n",
    "n = int(input())\n",
    "for i in range(0, n + 1):\n",
    "    ans += i\n",
    "    \n",
    "print(ans)"
   ]
  },
  {
   "cell_type": "code",
   "execution_count": 2,
   "id": "e8d16a6e",
   "metadata": {},
   "outputs": [
    {
     "name": "stdout",
     "output_type": "stream",
     "text": [
      "7\n"
     ]
    },
    {
     "data": {
      "text/plain": [
       "28"
      ]
     },
     "execution_count": 2,
     "metadata": {},
     "output_type": "execute_result"
    }
   ],
   "source": [
    "def rec(n):\n",
    "    if n <= 1:\n",
    "        return 1\n",
    "    else:\n",
    "        return n + rec(n - 1)\n",
    "    \n",
    "n = int(input())\n",
    "rec(n)"
   ]
  },
  {
   "cell_type": "code",
   "execution_count": 9,
   "id": "2ceaed9c",
   "metadata": {},
   "outputs": [
    {
     "name": "stdout",
     "output_type": "stream",
     "text": [
      "Not there\n",
      "Not there\n",
      "Not there\n",
      "Not there\n",
      "Not there\n",
      "Not there\n",
      "Not there\n",
      "Not there\n",
      "Not there\n",
      "Not there\n"
     ]
    }
   ],
   "source": [
    "lst = [5,7,3,7,3,7,3,8,3,10]\n",
    "target = 14\n",
    "for i in range(0, len(lst)):\n",
    "    if lst[i] == target:\n",
    "        print(\"found there\")\n",
    "    else:\n",
    "        print(\"Not there\")"
   ]
  },
  {
   "cell_type": "code",
   "execution_count": 16,
   "id": "0212c5b4",
   "metadata": {},
   "outputs": [],
   "source": [
    "n= 5 \n",
    "for i in range(n, 0):\n",
    "    print(i)"
   ]
  },
  {
   "cell_type": "code",
   "execution_count": 17,
   "id": "e98da9fd",
   "metadata": {},
   "outputs": [
    {
     "data": {
      "text/plain": [
       "108"
      ]
     },
     "execution_count": 17,
     "metadata": {},
     "output_type": "execute_result"
    }
   ],
   "source": [
    "1089//10"
   ]
  },
  {
   "cell_type": "code",
   "execution_count": 18,
   "id": "f94dd5ca",
   "metadata": {},
   "outputs": [
    {
     "data": {
      "text/plain": [
       "10"
      ]
     },
     "execution_count": 18,
     "metadata": {},
     "output_type": "execute_result"
    }
   ],
   "source": [
    "108//10"
   ]
  },
  {
   "cell_type": "code",
   "execution_count": 21,
   "id": "78aee298",
   "metadata": {},
   "outputs": [
    {
     "name": "stdout",
     "output_type": "stream",
     "text": [
      "10\n"
     ]
    }
   ],
   "source": [
    "n = 8080178719\n",
    "ans = 0\n",
    "while n != 0:\n",
    "    n = n//10\n",
    "    ans += 1\n",
    "    \n",
    "print(ans)\n",
    "    "
   ]
  },
  {
   "cell_type": "code",
   "execution_count": 29,
   "id": "727aab9f",
   "metadata": {},
   "outputs": [
    {
     "name": "stdout",
     "output_type": "stream",
     "text": [
      "78\n",
      "it's not palindrome\n"
     ]
    }
   ],
   "source": [
    "#Checking palindrome number\n",
    "num = int(input())\n",
    "reversenum = 0\n",
    "temp = num\n",
    "while num > 0:\n",
    "    lastdigit = num % 10\n",
    "    num = num//10\n",
    "    reversenum = reversenum * 10 + lastdigit\n",
    "if temp == reversenum:\n",
    "    print(\"It's palindrome\")\n",
    "else:\n",
    "    print(\"it's not palindrome\")\n",
    "    \n",
    "    "
   ]
  },
  {
   "cell_type": "code",
   "execution_count": 22,
   "id": "63b35505",
   "metadata": {},
   "outputs": [
    {
     "data": {
      "text/plain": [
       "7"
      ]
     },
     "execution_count": 22,
     "metadata": {},
     "output_type": "execute_result"
    }
   ],
   "source": [
    "137%10"
   ]
  },
  {
   "cell_type": "code",
   "execution_count": 76,
   "id": "18122f7e",
   "metadata": {},
   "outputs": [
    {
     "name": "stdout",
     "output_type": "stream",
     "text": [
      "5\n",
      "120\n"
     ]
    }
   ],
   "source": [
    "n = int(input())\n",
    "count = 1\n",
    "ans = []\n",
    "for i in range(1, n+1):\n",
    "    count *= i\n",
    "print(count)"
   ]
  },
  {
   "cell_type": "code",
   "execution_count": 74,
   "id": "fd6d7b1a",
   "metadata": {},
   "outputs": [
    {
     "name": "stdout",
     "output_type": "stream",
     "text": [
      "4\n"
     ]
    }
   ],
   "source": [
    "num =50000\n",
    "ans = 0\n",
    "while num%10 ==0:\n",
    "    num = num//10\n",
    "    ans += 1\n",
    "    \n",
    "print(ans)"
   ]
  },
  {
   "cell_type": "code",
   "execution_count": 19,
   "id": "25b3423a",
   "metadata": {},
   "outputs": [
    {
     "data": {
      "text/plain": [
       "5"
      ]
     },
     "execution_count": 19,
     "metadata": {},
     "output_type": "execute_result"
    }
   ],
   "source": [
    "56//10\n"
   ]
  },
  {
   "cell_type": "code",
   "execution_count": 78,
   "id": "e0898aa7",
   "metadata": {},
   "outputs": [
    {
     "name": "stdout",
     "output_type": "stream",
     "text": [
      "8\n"
     ]
    }
   ],
   "source": [
    "arr = [2,1,3,6,5,8]\n",
    "# max1 = arr[0]\n",
    "# max2 = arr[0]\n",
    "# for i in range(0, len(arr)):\n",
    "#     if arr[i] >= max1:\n",
    "#         max2 = max1\n",
    "#         max1 = arr[i]\n",
    "#     else:\n",
    "#         arr[i] > max2\n",
    "#         max2 = arr[i]\n",
    "        \n",
    "# print(max1)\n",
    "#print(max2)\n",
    "print(max(arr))"
   ]
  },
  {
   "cell_type": "code",
   "execution_count": 20,
   "id": "ef3ade9e",
   "metadata": {},
   "outputs": [
    {
     "name": "stdout",
     "output_type": "stream",
     "text": [
      "9\n",
      "3\n"
     ]
    }
   ],
   "source": [
    "a = 81\n",
    "b = 21\n",
    "for i in range(min(a,b), 1, -1):\n",
    "    if a%i ==0 & b%i ==0:\n",
    "        print(i)"
   ]
  },
  {
   "cell_type": "code",
   "execution_count": 21,
   "id": "68ba7270",
   "metadata": {},
   "outputs": [
    {
     "data": {
      "text/plain": [
       "18"
      ]
     },
     "execution_count": 21,
     "metadata": {},
     "output_type": "execute_result"
    }
   ],
   "source": [
    "81%21"
   ]
  },
  {
   "cell_type": "code",
   "execution_count": 27,
   "id": "5f614188",
   "metadata": {},
   "outputs": [
    {
     "name": "stdout",
     "output_type": "stream",
     "text": [
      "0\n",
      "1\n"
     ]
    }
   ],
   "source": [
    "a = 1000\n",
    "b = 1\n",
    "while (a != 0 and b != 0):\n",
    "    if (a > b):\n",
    "        a = a%b\n",
    "    else:\n",
    "        b = b%1\n",
    "        \n",
    "print(a)\n",
    "print(b)"
   ]
  },
  {
   "cell_type": "code",
   "execution_count": 35,
   "id": "1ae29e71",
   "metadata": {},
   "outputs": [
    {
     "name": "stdout",
     "output_type": "stream",
     "text": [
      "[4, 6, 8]\n"
     ]
    }
   ],
   "source": [
    "nums = [1,2,3,4]\n",
    "ans = []\n",
    "for i in range(1, len(nums)):\n",
    "    ans.append(nums[i] + nums[i])\n",
    "print(ans)\n",
    "    \n",
    "    "
   ]
  },
  {
   "cell_type": "code",
   "execution_count": 48,
   "id": "38b5763e",
   "metadata": {},
   "outputs": [
    {
     "name": "stdout",
     "output_type": "stream",
     "text": [
      "[1, 13, 91, 455]\n"
     ]
    }
   ],
   "source": [
    "for i in range(1, len(nums)):\n",
    "    nums[i] += nums[i -1]\n",
    "print(nums)"
   ]
  },
  {
   "cell_type": "code",
   "execution_count": 53,
   "id": "b9e4f819",
   "metadata": {},
   "outputs": [
    {
     "ename": "IndexError",
     "evalue": "list index out of range",
     "output_type": "error",
     "traceback": [
      "\u001b[1;31m---------------------------------------------------------------------------\u001b[0m",
      "\u001b[1;31mIndexError\u001b[0m                                Traceback (most recent call last)",
      "Cell \u001b[1;32mIn[53], line 4\u001b[0m\n\u001b[0;32m      2\u001b[0m ans \u001b[38;5;241m=\u001b[39m []\n\u001b[0;32m      3\u001b[0m \u001b[38;5;28;01mfor\u001b[39;00m i \u001b[38;5;129;01min\u001b[39;00m \u001b[38;5;28mrange\u001b[39m(\u001b[38;5;241m0\u001b[39m, \u001b[38;5;28mlen\u001b[39m(n)):\n\u001b[1;32m----> 4\u001b[0m     ans\u001b[38;5;241m.\u001b[39mappend(\u001b[43mn\u001b[49m\u001b[43m[\u001b[49m\u001b[38;5;241;43m0\u001b[39;49m\u001b[43m \u001b[49m\u001b[38;5;241;43m+\u001b[39;49m\u001b[43m \u001b[49m\u001b[43mn\u001b[49m\u001b[43m[\u001b[49m\u001b[43mi\u001b[49m\u001b[43m]\u001b[49m\u001b[43m]\u001b[49m)\n\u001b[0;32m      5\u001b[0m \u001b[38;5;28mprint\u001b[39m(ans)\n",
      "\u001b[1;31mIndexError\u001b[0m: list index out of range"
     ]
    }
   ],
   "source": [
    "n = [1,2,3,4]\n",
    "ans = []\n",
    "for i in range(0, len(n)):\n",
    "    ans.append(n[0 + n[i]])\n",
    "print(ans)"
   ]
  },
  {
   "cell_type": "code",
   "execution_count": 59,
   "id": "6e01be83",
   "metadata": {},
   "outputs": [
    {
     "name": "stdout",
     "output_type": "stream",
     "text": [
      "[[1, 2, 3], [3, 2, 1]]\n"
     ]
    }
   ],
   "source": [
    "accounts = [[1,2,3],[3,2,1]]\n",
    "ans = []\n",
    "for i in range(len(accounts)):\n",
    "    \n",
    "    \n",
    "print(ans)\n",
    "    \n",
    "    "
   ]
  },
  {
   "cell_type": "code",
   "execution_count": 1,
   "id": "0c1dac51",
   "metadata": {},
   "outputs": [
    {
     "name": "stdout",
     "output_type": "stream",
     "text": [
      "2\n",
      "1\n",
      "3 1\n"
     ]
    }
   ],
   "source": [
    "def fun(N, K, A):\n",
    "    total = 0\n",
    "    for i in range(len(A)):\n",
    "        total += i\n",
    "\n",
    "    ans = (total//N)\n",
    "\n",
    "    return ans\n",
    "\n",
    "\n",
    "\n",
    "\n",
    "\n",
    "\n",
    "N = int(input())\n",
    "K = int(input())\n",
    "A = list(map(int, input().split()))"
   ]
  },
  {
   "cell_type": "code",
   "execution_count": 2,
   "id": "cf953e18",
   "metadata": {},
   "outputs": [
    {
     "data": {
      "text/plain": [
       "4"
      ]
     },
     "execution_count": 2,
     "metadata": {},
     "output_type": "execute_result"
    }
   ],
   "source": [
    "a = 0\n",
    "84%10\n"
   ]
  },
  {
   "cell_type": "code",
   "execution_count": 2,
   "id": "06749d20",
   "metadata": {},
   "outputs": [
    {
     "name": "stdout",
     "output_type": "stream",
     "text": [
      "1\n",
      "10\n",
      "1\n"
     ]
    },
    {
     "data": {
      "text/plain": [
       "10"
      ]
     },
     "execution_count": 2,
     "metadata": {},
     "output_type": "execute_result"
    }
   ],
   "source": [
    "#Hackerearthe code \n",
    "def answer(l, r, k):\n",
    "    count = 0\n",
    "    for i in range(l, r +1):\n",
    "        if i%k == 0:\n",
    "            count += 1\n",
    "        else:\n",
    "            count += 0\n",
    "\n",
    "    return count\n",
    "\n",
    "l = int(input())\n",
    "r = int(input())\n",
    "k = int(input())\n",
    "answer(l, r, k)"
   ]
  },
  {
   "cell_type": "code",
   "execution_count": 17,
   "id": "58c003f7",
   "metadata": {},
   "outputs": [
    {
     "data": {
      "text/plain": [
       "[4, 3, 2, 1, 0]"
      ]
     },
     "execution_count": 17,
     "metadata": {},
     "output_type": "execute_result"
    }
   ],
   "source": [
    "def ret(a):\n",
    "    rev = []\n",
    "    for i in range(len(a), -1, -1):\n",
    "        rev.append(i)\n",
    "        \n",
    "    return rev\n",
    "\n",
    "\n",
    "\n",
    "a = [1, 4, 3, 2]\n",
    "ret(a)"
   ]
  },
  {
   "cell_type": "code",
   "execution_count": 9,
   "id": "c80985d1",
   "metadata": {},
   "outputs": [
    {
     "data": {
      "text/plain": [
       "2"
      ]
     },
     "execution_count": 9,
     "metadata": {},
     "output_type": "execute_result"
    }
   ],
   "source": [
    "a = [1, 4, 3, 2]\n",
    "a[3]"
   ]
  },
  {
   "cell_type": "code",
   "execution_count": 11,
   "id": "f81afc10",
   "metadata": {},
   "outputs": [
    {
     "ename": "IndexError",
     "evalue": "list index out of range",
     "output_type": "error",
     "traceback": [
      "\u001b[1;31m---------------------------------------------------------------------------\u001b[0m",
      "\u001b[1;31mIndexError\u001b[0m                                Traceback (most recent call last)",
      "Cell \u001b[1;32mIn[11], line 2\u001b[0m\n\u001b[0;32m      1\u001b[0m \u001b[38;5;28;01mfor\u001b[39;00m i \u001b[38;5;129;01min\u001b[39;00m \u001b[38;5;28mrange\u001b[39m(\u001b[38;5;28mlen\u001b[39m(a), \u001b[38;5;241m0\u001b[39m, \u001b[38;5;241m-\u001b[39m\u001b[38;5;241m1\u001b[39m):\n\u001b[1;32m----> 2\u001b[0m     \u001b[38;5;28mprint\u001b[39m(\u001b[43ma\u001b[49m\u001b[43m[\u001b[49m\u001b[43mi\u001b[49m\u001b[43m]\u001b[49m)\n",
      "\u001b[1;31mIndexError\u001b[0m: list index out of range"
     ]
    }
   ],
   "source": [
    "for i in range(len(a), 0, -1):\n",
    "    print(a[i])"
   ]
  },
  {
   "cell_type": "code",
   "execution_count": 20,
   "id": "1e75c33b",
   "metadata": {},
   "outputs": [
    {
     "data": {
      "text/plain": [
       "[2, 3, 4, 1]"
      ]
     },
     "execution_count": 20,
     "metadata": {},
     "output_type": "execute_result"
    }
   ],
   "source": [
    "def ret(a):\n",
    "    rev = []\n",
    "    for i in range(len(a)-1, -1, -1):\n",
    "        rev.append(a[i])\n",
    "        \n",
    "    return rev\n",
    "\n",
    "\n",
    "arr = [1, 4, 3, 2]\n",
    "ret(a)\n"
   ]
  },
  {
   "cell_type": "code",
   "execution_count": 25,
   "id": "173c23a2",
   "metadata": {},
   "outputs": [
    {
     "name": "stdout",
     "output_type": "stream",
     "text": [
      "<__main__.Node object at 0x000001AEE844F610>\n"
     ]
    }
   ],
   "source": [
    "class Node:\n",
    "    def __init__(self, data):\n",
    "        self.data = data\n",
    "        self.ref = None\n",
    "        \n",
    "        \n",
    "node1 = Node(10)\n",
    "print(node1)"
   ]
  },
  {
   "cell_type": "code",
   "execution_count": 23,
   "id": "221ab99c",
   "metadata": {},
   "outputs": [
    {
     "name": "stdout",
     "output_type": "stream",
     "text": [
      "10\n"
     ]
    }
   ],
   "source": [
    "class Node:\n",
    "    def __init__(self, data):\n",
    "        self.data = data\n",
    "        self.ref = None\n",
    "        \n",
    "node1 = Node(10)\n",
    "print(node1.data)\n"
   ]
  },
  {
   "cell_type": "code",
   "execution_count": 10,
   "id": "b14e16e7",
   "metadata": {
    "scrolled": true
   },
   "outputs": [
    {
     "name": "stdout",
     "output_type": "stream",
     "text": [
      "Enter the values for l, r, and k (space-separated): 1 10 1\n",
      "10\n"
     ]
    }
   ],
   "source": [
    "inputs = input(\"Enter the values for l, r, and k (space-separated): \")\n",
    "l, r, k = map(int, inputs.split())\n",
    "\n",
    "count = 0\n",
    "for i in range(l, r+1):\n",
    "    if i % k == 0:\n",
    "        count += 1\n",
    "    else:\n",
    "        count += 0\n",
    "\n",
    "print(count)"
   ]
  },
  {
   "cell_type": "code",
   "execution_count": 7,
   "id": "5d57392c",
   "metadata": {},
   "outputs": [
    {
     "name": "stdout",
     "output_type": "stream",
     "text": [
      "Enter the value of l: 1\n",
      "Enter the value of r: 10\n",
      "Enter the value of k: 1\n",
      "10\n"
     ]
    }
   ],
   "source": [
    "l = int(input(\"Enter the value of l: \"))\n",
    "r = int(input(\"Enter the value of r: \"))\n",
    "k = int(input(\"Enter the value of k: \"))\n",
    "\n",
    "count = 0\n",
    "for i in range(l, r + 1):\n",
    "    if i % k == 0:\n",
    "        count += 1\n",
    "\n",
    "print(count)\n"
   ]
  },
  {
   "cell_type": "code",
   "execution_count": 52,
   "id": "f81aab76",
   "metadata": {},
   "outputs": [
    {
     "name": "stdout",
     "output_type": "stream",
     "text": [
      "2\n",
      "1\n",
      "0\n",
      "2\n",
      "1\n",
      "0\n",
      "2\n",
      "1\n",
      "0\n"
     ]
    }
   ],
   "source": [
    "ar = [[1,2,3],\n",
    "      [4,5,6],\n",
    "      [7,8,9]]\n",
    "ans = 0\n",
    "ans2 = 0\n",
    "for i in range(len(ar)):\n",
    "    #print(i)\n",
    "    #for j in range(len(ar)):\n",
    "    for k in range(len(ar) -1, -1, -1):\n",
    "        print(k)\n",
    "        \n",
    "            #print(j)\n",
    "#     ans += ar[i][i]\n",
    "#     ans1 += ar[i]\n",
    "    \n",
    "    \n",
    "        \n",
    "#print(ans)\n",
    "    "
   ]
  },
  {
   "cell_type": "code",
   "execution_count": 1,
   "id": "47097116",
   "metadata": {},
   "outputs": [
    {
     "name": "stdout",
     "output_type": "stream",
     "text": [
      "9\n"
     ]
    }
   ],
   "source": [
    "ar = [[1,2,3],\n",
    "      [4,5,6],\n",
    "      [7,8,9]]\n",
    "print(ar[2][2])"
   ]
  },
  {
   "cell_type": "code",
   "execution_count": null,
   "id": "904fe60c",
   "metadata": {},
   "outputs": [],
   "source": [
    "i = 0,0 1,1  2,2\n",
    "j = 0,2  1,1  2,0"
   ]
  },
  {
   "cell_type": "code",
   "execution_count": 22,
   "id": "31715806",
   "metadata": {},
   "outputs": [
    {
     "name": "stdout",
     "output_type": "stream",
     "text": [
      "0\n",
      "15\n"
     ]
    }
   ],
   "source": [
    "ar = [[1,2,3],\n",
    "      [4,5,6],\n",
    "      [7,8,9]]\n",
    "\n",
    "ans1 = 0\n",
    "ans2 = 0\n",
    "for i in range(len(ar)):\n",
    "    ans2 += ar[i][i]\n",
    "    for j in range(len(ar))\n",
    "    \n",
    "print(ans1)\n",
    "print(ans2)\n",
    "    "
   ]
  },
  {
   "cell_type": "code",
   "execution_count": 14,
   "id": "a36013b3",
   "metadata": {},
   "outputs": [
    {
     "ename": "ValueError",
     "evalue": "slice step cannot be zero",
     "output_type": "error",
     "traceback": [
      "\u001b[1;31m---------------------------------------------------------------------------\u001b[0m",
      "\u001b[1;31mValueError\u001b[0m                                Traceback (most recent call last)",
      "Cell \u001b[1;32mIn[14], line 3\u001b[0m\n\u001b[0;32m      1\u001b[0m l \u001b[38;5;241m=\u001b[39m [\u001b[38;5;241m2\u001b[39m,\u001b[38;5;241m3\u001b[39m,\u001b[38;5;241m5\u001b[39m,\u001b[38;5;241m6\u001b[39m,\u001b[38;5;241m7\u001b[39m]\n\u001b[0;32m      2\u001b[0m \u001b[38;5;28;01mfor\u001b[39;00m i \u001b[38;5;129;01min\u001b[39;00m \u001b[38;5;28mrange\u001b[39m(\u001b[38;5;28mlen\u001b[39m(l)):\n\u001b[1;32m----> 3\u001b[0m     \u001b[38;5;28mprint\u001b[39m(\u001b[43ml\u001b[49m\u001b[43m[\u001b[49m\u001b[43m:\u001b[49m\u001b[43m:\u001b[49m\u001b[43mi\u001b[49m\u001b[43m]\u001b[49m)\n",
      "\u001b[1;31mValueError\u001b[0m: slice step cannot be zero"
     ]
    }
   ],
   "source": [
    "l = [2,3,5,6,7]\n",
    "for i in range(len(l)):\n",
    "    print(l[::i])\n",
    "    "
   ]
  },
  {
   "cell_type": "code",
   "execution_count": 17,
   "id": "7cdbb920",
   "metadata": {},
   "outputs": [
    {
     "name": "stdout",
     "output_type": "stream",
     "text": [
      "[7, 6, 5, 3, 2]\n",
      "[7, 5, 2]\n",
      "[7, 3]\n",
      "[7, 2]\n",
      "[7]\n"
     ]
    }
   ],
   "source": [
    "l = [2, 3, 5, 6, 7]\n",
    "for i in range(len(l) + 1):\n",
    "    print(l[::-i])\n"
   ]
  },
  {
   "cell_type": "code",
   "execution_count": 24,
   "id": "ba0787d5",
   "metadata": {},
   "outputs": [
    {
     "name": "stdout",
     "output_type": "stream",
     "text": [
      "15\n"
     ]
    }
   ],
   "source": [
    "ar = [[1, 2, 3],\n",
    "      [4, 5, 6],\n",
    "      [7, 8, 9]]\n",
    "\n",
    "product = 0\n",
    "for i in range(len(ar)):\n",
    "    product += ar[i][i]\n",
    "\n",
    "print(product)\n"
   ]
  },
  {
   "cell_type": "code",
   "execution_count": 26,
   "id": "7961f2d9",
   "metadata": {},
   "outputs": [
    {
     "name": "stdout",
     "output_type": "stream",
     "text": [
      "17\n"
     ]
    }
   ],
   "source": [
    "ar = [[1, 2, 3],\n",
    "      [4, 5, 6],\n",
    "      [9, 8, 9]]\n",
    "\n",
    "sum_opposite_diagonal = 0\n",
    "for i in range(len(ar)):\n",
    "    sum_opposite_diagonal += ar[i][len(ar) - 1 - i]\n",
    "\n",
    "print(sum_opposite_diagonal)\n"
   ]
  },
  {
   "cell_type": "code",
   "execution_count": 27,
   "id": "afc64446",
   "metadata": {},
   "outputs": [
    {
     "data": {
      "text/plain": [
       "2"
      ]
     },
     "execution_count": 27,
     "metadata": {},
     "output_type": "execute_result"
    }
   ],
   "source": [
    "def diagonalDifference(arr):\n",
    "    # Write your code here\n",
    "    a = 0\n",
    "    b = 0\n",
    "    for i in range(len(arr)):\n",
    "        a += arr[i][i]\n",
    "        b += arr[i][len(arr) - 1 - i]\n",
    "        \n",
    "    return abs(a - b)\n",
    "\n",
    "arr = [[1, 2, 3],\n",
    "      [4, 5, 6],\n",
    "      [9, 8, 9]]\n",
    "\n",
    "diagonalDifference(arr)"
   ]
  },
  {
   "cell_type": "code",
   "execution_count": 46,
   "id": "102e1740",
   "metadata": {},
   "outputs": [
    {
     "name": "stdout",
     "output_type": "stream",
     "text": [
      "0.400000\n"
     ]
    }
   ],
   "source": [
    "def Plusminus(arr):\n",
    "    zero = 0\n",
    "    pos = 0\n",
    "    neg = 0\n",
    "    for i in arr:\n",
    "        if i == 0:\n",
    "            zero += 1\n",
    "        elif i > 0:\n",
    "            pos += 1\n",
    "        else:\n",
    "            neg += 1\n",
    "    print(f\"{pos/len(arr):.6f}\")\n",
    "\n",
    "\n",
    "arr = [1,1,0,-1,-1]\n",
    "Plusminus(arr)"
   ]
  },
  {
   "cell_type": "code",
   "execution_count": 50,
   "id": "e7ef79aa",
   "metadata": {},
   "outputs": [
    {
     "name": "stdout",
     "output_type": "stream",
     "text": [
      "\n",
      "\n",
      "\n",
      "\n",
      "\n",
      "\n",
      "\n"
     ]
    }
   ],
   "source": [
    "n = 6\n",
    "for i in range(n + 1):\n",
    "    print(i * \"#\")"
   ]
  },
  {
   "cell_type": "code",
   "execution_count": 53,
   "id": "92966f58",
   "metadata": {},
   "outputs": [
    {
     "name": "stdout",
     "output_type": "stream",
     "text": [
      "     #\n",
      "    ##\n",
      "   ###\n",
      "  ####\n",
      " #####\n"
     ]
    }
   ],
   "source": [
    "n = 6\n",
    "for i in range(1, n):  # Rows\n",
    "    for j in range(n, 0, -1):  # Spaces\n",
    "        if j > i:\n",
    "            print(\" \", end=\"\")\n",
    "        else:\n",
    "            print(\"#\", end=\"\")\n",
    "    print()  # Move to the next line"
   ]
  },
  {
   "cell_type": "code",
   "execution_count": 38,
   "id": "2f61323d",
   "metadata": {},
   "outputs": [
    {
     "name": "stdout",
     "output_type": "stream",
     "text": [
      "(1, 2, 2)\n"
     ]
    }
   ],
   "source": [
    "def Plusminus(arr):\n",
    "    zero = 0\n",
    "    pos = 0\n",
    "    neg = 0\n",
    "    for i in arr:\n",
    "        if i == 0:\n",
    "            zero += 1\n",
    "        elif i > 0:\n",
    "            pos += 1\n",
    "        else:\n",
    "            neg += 1\n",
    "    return zero, pos, neg\n",
    "\n",
    "\n",
    "arr = [1, 1, 0, -1, -1]\n",
    "result = Plusminus(arr)\n",
    "print(result)\n"
   ]
  },
  {
   "cell_type": "code",
   "execution_count": 1,
   "id": "d57df48f",
   "metadata": {},
   "outputs": [
    {
     "data": {
      "text/plain": [
       "3"
      ]
     },
     "execution_count": 1,
     "metadata": {},
     "output_type": "execute_result"
    }
   ],
   "source": [
    "def findDigits(n):\n",
    "    count = 0\n",
    "    for i in str(n):\n",
    "        if n % int(i) == 0:\n",
    "            count += 1\n",
    "    return count\n",
    "        \n",
    "    \n",
    "        \n",
    "n = 124\n",
    "findDigits(n)"
   ]
  },
  {
   "cell_type": "code",
   "execution_count": 27,
   "id": "c926528d",
   "metadata": {},
   "outputs": [
    {
     "name": "stdout",
     "output_type": "stream",
     "text": [
      "10\n"
     ]
    }
   ],
   "source": [
    "def find(n):\n",
    "    count = 0\n",
    "    for i in str(n):\n",
    "        if int(i) != 0  and n % int(i) == 0:\n",
    "            count += 1\n",
    "        else:\n",
    "            return None\n",
    "            \n",
    "    return count\n",
    "        \n",
    "n = int(input())\n",
    "find(n)\n",
    "        "
   ]
  },
  {
   "cell_type": "code",
   "execution_count": 33,
   "id": "11da1a77",
   "metadata": {},
   "outputs": [
    {
     "name": "stdout",
     "output_type": "stream",
     "text": [
      "2\n",
      "1\n"
     ]
    }
   ],
   "source": [
    "def find(n):\n",
    "    count = 0\n",
    "    for i in str(n):\n",
    "        if int(i) != 0 and n % int(i) == 0:\n",
    "            count += 1\n",
    "        else:\n",
    "            return None\n",
    "            \n",
    "    return count\n",
    "        \n",
    "n = int(input())\n",
    "result = find(n)\n",
    "print(result)\n"
   ]
  },
  {
   "cell_type": "code",
   "execution_count": 34,
   "id": "7e4113f4",
   "metadata": {},
   "outputs": [
    {
     "name": "stdout",
     "output_type": "stream",
     "text": [
      "Enter an integer: 2\n",
      "Number of divisors in the integer: 1\n"
     ]
    }
   ],
   "source": [
    "def count_divisors(n):\n",
    "    count = 0\n",
    "    for digit in str(n):\n",
    "        if digit != '0' and n % int(digit) == 0:\n",
    "            count += 1\n",
    "    return count\n",
    "\n",
    "n = int(input(\"Enter an integer: \"))\n",
    "result = count_divisors(n)\n",
    "print(\"Number of divisors in the integer:\", result)\n"
   ]
  },
  {
   "cell_type": "code",
   "execution_count": null,
   "id": "582c4292",
   "metadata": {},
   "outputs": [],
   "source": [
    "def superpow(a, b):\n",
    "    s = 1\n",
    "    e = 2**31\n",
    "    while "
   ]
  },
  {
   "cell_type": "code",
   "execution_count": 5,
   "id": "13669ed6",
   "metadata": {},
   "outputs": [
    {
     "ename": "SyntaxError",
     "evalue": "invalid syntax (3996527153.py, line 2)",
     "output_type": "error",
     "traceback": [
      "\u001b[1;36m  Cell \u001b[1;32mIn[5], line 2\u001b[1;36m\u001b[0m\n\u001b[1;33m    print(a %= 1337)\u001b[0m\n\u001b[1;37m            ^\u001b[0m\n\u001b[1;31mSyntaxError\u001b[0m\u001b[1;31m:\u001b[0m invalid syntax\n"
     ]
    }
   ],
   "source": [
    "a = 2\n",
    "a % 1337\n"
   ]
  },
  {
   "cell_type": "code",
   "execution_count": null,
   "id": "ecd6b0a6",
   "metadata": {},
   "outputs": [],
   "source": [
    "def binary_search(nums, target):\n",
    "    s = 0\n",
    "    e = len(nums) - 1\n",
    "    mid = (s + e)//2\n",
    "    while s <= e:\n",
    "        if target == nums[mid]:\n",
    "            return mid\n",
    "        if target >= nums[0] and target <= nums[mid]:\n",
    "             e = mid - 1\n",
    "        elif target >= nums[mid]\n",
    "        \n",
    "        \n",
    "        \n",
    "        \n",
    "nums = [1, 2, 3, 4, 5, 6, 7, 6, 5, 4, 3]\n",
    "target = 7\n",
    "binary_search(nums, target)"
   ]
  },
  {
   "cell_type": "code",
   "execution_count": 9,
   "id": "041e3513",
   "metadata": {},
   "outputs": [
    {
     "ename": "TypeError",
     "evalue": "list indices must be integers or slices, not list",
     "output_type": "error",
     "traceback": [
      "\u001b[1;31m---------------------------------------------------------------------------\u001b[0m",
      "\u001b[1;31mTypeError\u001b[0m                                 Traceback (most recent call last)",
      "Cell \u001b[1;32mIn[9], line 12\u001b[0m\n\u001b[0;32m      9\u001b[0m     \u001b[38;5;28mprint\u001b[39m(count)\n\u001b[0;32m     11\u001b[0m accounts \u001b[38;5;241m=\u001b[39m [[\u001b[38;5;241m1\u001b[39m,\u001b[38;5;241m2\u001b[39m,\u001b[38;5;241m3\u001b[39m],[\u001b[38;5;241m3\u001b[39m,\u001b[38;5;241m2\u001b[39m,\u001b[38;5;241m1\u001b[39m]]\n\u001b[1;32m---> 12\u001b[0m \u001b[43mrich_person\u001b[49m\u001b[43m(\u001b[49m\u001b[43maccounts\u001b[49m\u001b[43m)\u001b[49m\n",
      "Cell \u001b[1;32mIn[9], line 5\u001b[0m, in \u001b[0;36mrich_person\u001b[1;34m(accounts)\u001b[0m\n\u001b[0;32m      3\u001b[0m ans \u001b[38;5;241m=\u001b[39m []\n\u001b[0;32m      4\u001b[0m \u001b[38;5;28;01mfor\u001b[39;00m i \u001b[38;5;129;01min\u001b[39;00m accounts:\n\u001b[1;32m----> 5\u001b[0m     count \u001b[38;5;241m+\u001b[39m\u001b[38;5;241m=\u001b[39m \u001b[43maccounts\u001b[49m\u001b[43m[\u001b[49m\u001b[43mi\u001b[49m\u001b[43m]\u001b[49m\n\u001b[0;32m      9\u001b[0m \u001b[38;5;28mprint\u001b[39m(count)\n",
      "\u001b[1;31mTypeError\u001b[0m: list indices must be integers or slices, not list"
     ]
    }
   ],
   "source": [
    "def rich_person(accounts):\n",
    "    count = 0\n",
    "    ans = []\n",
    "    for i in accounts:\n",
    "        count += accounts[i]\n",
    "            \n",
    "        \n",
    "        \n",
    "    print(count)\n",
    "        \n",
    "accounts = [[1,2,3],[3,2,1]]\n",
    "rich_person(accounts)"
   ]
  },
  {
   "cell_type": "code",
   "execution_count": 6,
   "id": "e9df13e0",
   "metadata": {},
   "outputs": [],
   "source": [
    "def rich_person(accounts):\n",
    "    totals = []\n",
    "    for sublist in accounts:\n",
    "        total = sum(sublist)\n",
    "        totals.append(total)\n",
    "        \n",
    "    return max(totals)\n",
    "\n",
    "accounts = [[1, 2, 3], [3, 2, 1]]\n",
    "result = rich_person(accounts)"
   ]
  },
  {
   "cell_type": "code",
   "execution_count": 1,
   "id": "1a443797",
   "metadata": {},
   "outputs": [
    {
     "name": "stdout",
     "output_type": "stream",
     "text": [
      "Hello ganesh\n"
     ]
    }
   ],
   "source": [
    "print(\"Hello ganesh\")"
   ]
  },
  {
   "cell_type": "code",
   "execution_count": 2,
   "id": "6ce072e3",
   "metadata": {},
   "outputs": [
    {
     "name": "stdout",
     "output_type": "stream",
     "text": [
      "[2, 3, 1]\n"
     ]
    }
   ],
   "source": [
    "def find_k_values(sequence):\n",
    "    return_array = []\n",
    "    for n in sequence:\n",
    "        k = n - (n ** 2) % n\n",
    "        return_array.append(k)\n",
    "    return return_array\n",
    "\n",
    "# Example usage:\n",
    "sequence = [2, 3, 1]\n",
    "result = find_k_values(sequence)\n",
    "print(result)\n"
   ]
  },
  {
   "cell_type": "code",
   "execution_count": 9,
   "id": "8bfe21e5",
   "metadata": {},
   "outputs": [
    {
     "ename": "SyntaxError",
     "evalue": "invalid syntax. Maybe you meant '==' or ':=' instead of '='? (1653231448.py, line 4)",
     "output_type": "error",
     "traceback": [
      "\u001b[1;36m  Cell \u001b[1;32mIn[9], line 4\u001b[1;36m\u001b[0m\n\u001b[1;33m    if ans = (nums[0]) or (nums[len(nums) - 1]):\u001b[0m\n\u001b[1;37m       ^\u001b[0m\n\u001b[1;31mSyntaxError\u001b[0m\u001b[1;31m:\u001b[0m invalid syntax. Maybe you meant '==' or ':=' instead of '='?\n"
     ]
    }
   ],
   "source": [
    "def PredictTheWinner(nums):\n",
    "    p1 = 0\n",
    "    p2 = 0\n",
    "    if ans = (nums[0]) or (nums[len(nums) - 1]):\n",
    "        p1 += ans\n",
    "        \n",
    "    \n",
    "\n",
    "\n",
    "\n",
    "nums = [1 , 5, 2]\n",
    "PredictTheWinner(nums)"
   ]
  },
  {
   "cell_type": "code",
   "execution_count": 27,
   "id": "d16994a0",
   "metadata": {},
   "outputs": [
    {
     "data": {
      "text/plain": [
       "6"
      ]
     },
     "execution_count": 27,
     "metadata": {},
     "output_type": "execute_result"
    }
   ],
   "source": [
    "def findrichperson(accounts):\n",
    "    ans = []\n",
    "    for i in accounts:\n",
    "        ans.append(sum(i))\n",
    "        \n",
    "    return max(ans)\n",
    "        \n",
    "\n",
    "accounts = [[1,2,3],[3,2,1]]\n",
    "findrichperson(accounts)"
   ]
  },
  {
   "cell_type": "code",
   "execution_count": 38,
   "id": "da5a37b4",
   "metadata": {},
   "outputs": [
    {
     "data": {
      "text/plain": [
       "[4, 0, 1, 1, 3]"
      ]
     },
     "execution_count": 38,
     "metadata": {},
     "output_type": "execute_result"
    }
   ],
   "source": [
    "def smallerNumbersThanCurrent(nums):\n",
    "    ans = []\n",
    "    for i in range(len(nums)):\n",
    "        count = 0\n",
    "        for j in range(len(nums)):\n",
    "            if nums[j] < nums[i]:\n",
    "                count += 1\n",
    "                \n",
    "        ans.append(count)\n",
    "    return ans\n",
    "            \n",
    "nums = [8,1,2,2,3]\n",
    "smallerNumbersThanCurrent(nums)"
   ]
  },
  {
   "cell_type": "code",
   "execution_count": 28,
   "id": "d865800d",
   "metadata": {},
   "outputs": [
    {
     "data": {
      "text/plain": [
       "5"
      ]
     },
     "execution_count": 28,
     "metadata": {},
     "output_type": "execute_result"
    }
   ],
   "source": [
    "nums = [8,1,2,2,3]\n",
    "len(nums)"
   ]
  },
  {
   "cell_type": "code",
   "execution_count": 33,
   "id": "3903063e",
   "metadata": {},
   "outputs": [
    {
     "name": "stdout",
     "output_type": "stream",
     "text": [
      "[1, 5]\n"
     ]
    }
   ],
   "source": [
    "# Example list\n",
    "my_list = [1]\n",
    "\n",
    "# Value to append\n",
    "value_to_append = 5\n",
    "\n",
    "# Append the value to the end of the list\n",
    "my_list.append(value_to_append)\n",
    "\n",
    "# Now my_list will be [1, 2, 3, 4, 5]\n",
    "print(my_list)\n"
   ]
  },
  {
   "cell_type": "code",
   "execution_count": 1,
   "id": "7756bf44",
   "metadata": {},
   "outputs": [
    {
     "name": "stdout",
     "output_type": "stream",
     "text": [
      "5\n"
     ]
    }
   ],
   "source": [
    "def fizzbuzz(n):\n",
    "    if n%3 == 0 and n%5 == 0:\n",
    "        print(\"FizzBuzz\")\n",
    "    elif n % 3 ==0 and n%5 == 1:\n",
    "        print(\"Fizz\")\n",
    "    elif n % 3 == 1 and n%5 == 0:\n",
    "        print(\"Buzz\")\n",
    "    elif n % 3 == 1 and n%5 ==1:\n",
    "        print(n)\n",
    "    \n",
    "    \n",
    "    \n",
    "n = int(input())\n",
    "fizzbuzz(n)"
   ]
  },
  {
   "cell_type": "code",
   "execution_count": 3,
   "id": "76fb515a",
   "metadata": {},
   "outputs": [
    {
     "name": "stdout",
     "output_type": "stream",
     "text": [
      "3\n",
      "Fizz\n"
     ]
    }
   ],
   "source": [
    "def fizzbuzz(n):\n",
    "    if n % 3 == 0 and n % 5 == 0:\n",
    "        print(\"FizzBuzz\")\n",
    "    elif n % 3 == 0:\n",
    "        print(\"Fizz\")\n",
    "    elif n % 5 == 0:\n",
    "        print(\"Buzz\")\n",
    "    else:\n",
    "        print(n)\n",
    "\n",
    "n = int(input())\n",
    "fizzbuzz(n)\n"
   ]
  },
  {
   "cell_type": "code",
   "execution_count": 16,
   "id": "e8875a9a",
   "metadata": {},
   "outputs": [
    {
     "name": "stdout",
     "output_type": "stream",
     "text": [
      "5\n"
     ]
    },
    {
     "data": {
      "text/plain": [
       "['1', '2', 'Fizz', '4', 'Buzz']"
      ]
     },
     "execution_count": 16,
     "metadata": {},
     "output_type": "execute_result"
    }
   ],
   "source": [
    "def fizBuz(n):\n",
    "    ans = []\n",
    "    for i in range(1, n+1):\n",
    "        if i%3 == 0 and i%5 == 0:\n",
    "            ans.append(str(\"FizzBuzz\"))\n",
    "        elif i%3 == 0 and i%5 != 0:\n",
    "            ans.append(\"Fizz\")\n",
    "        elif i%3 != 0 and i%5 == 0:\n",
    "            ans.append(\"Buzz\")\n",
    "        elif i%3 == 1 and i%5 == 1:\n",
    "            ans.append(str(i))\n",
    "        else:\n",
    "            ans.append(str(i))\n",
    "            \n",
    "    return ans\n",
    "           \n",
    "n = int(input())\n",
    "fizBuz(n)"
   ]
  },
  {
   "cell_type": "code",
   "execution_count": 12,
   "id": "63ad4498",
   "metadata": {},
   "outputs": [
    {
     "data": {
      "text/plain": [
       "2"
      ]
     },
     "execution_count": 12,
     "metadata": {},
     "output_type": "execute_result"
    }
   ],
   "source": [
    "14%3"
   ]
  },
  {
   "cell_type": "code",
   "execution_count": 16,
   "id": "15ce944e",
   "metadata": {},
   "outputs": [
    {
     "data": {
      "text/plain": [
       "1"
      ]
     },
     "execution_count": 16,
     "metadata": {},
     "output_type": "execute_result"
    }
   ],
   "source": [
    "def maxminfn(A):\n",
    "    mx = A[0]\n",
    "    mn = A[0]\n",
    "    for i in range(1, len(A)):\n",
    "        if A[i] > mx:\n",
    "            mx = A[i]\n",
    "        elif A[i] < mn:\n",
    "            mn = A[i]\n",
    "            \n",
    "    return (mx + (mn))\n",
    "A = [-2, 1, -4, 5, 3]\n",
    "maxminfn(A)"
   ]
  },
  {
   "cell_type": "code",
   "execution_count": 8,
   "id": "9c8298c2",
   "metadata": {},
   "outputs": [
    {
     "name": "stdout",
     "output_type": "stream",
     "text": [
      "5\n"
     ]
    }
   ],
   "source": [
    "def maxminfn(A):\n",
    "    mx = A[0]  # Initialize mx with the first element of the array.\n",
    "    mn = A[0]  # Initialize mn with the first element of the array.\n",
    "    for i in range(1, len(A)):  # Start the loop from index 1 since we already initialized mx and mn with the first element.\n",
    "        if A[i] > mx:  # Check if the current element is greater than mx.\n",
    "            mx = A[i]  # If it is, update mx.\n",
    "        elif A[i] < mn:  # Check if the current element is smaller than mn.\n",
    "            mn = A[i]  # If it is, update mn.\n",
    "            \n",
    "    return mx  # Return the maximum element in the array.\n",
    "A = [-2, 1, -4, 5, 3]\n",
    "print(maxminfn(A))  # Call the function and print the result.\n"
   ]
  },
  {
   "cell_type": "code",
   "execution_count": 15,
   "id": "40f8e57b",
   "metadata": {},
   "outputs": [
    {
     "data": {
      "text/plain": [
       "1"
      ]
     },
     "execution_count": 15,
     "metadata": {},
     "output_type": "execute_result"
    }
   ],
   "source": [
    "((5) +(-4))"
   ]
  },
  {
   "cell_type": "code",
   "execution_count": 20,
   "id": "a619b3d5",
   "metadata": {},
   "outputs": [
    {
     "data": {
      "text/plain": [
       "[1, 2, 'fizz', 4, 'Buzz']"
      ]
     },
     "execution_count": 20,
     "metadata": {},
     "output_type": "execute_result"
    }
   ],
   "source": [
    "def fizzBuzz(A):\n",
    "    ans = []\n",
    "    for i in range(1,(A)+1):\n",
    "        if i%3 == 0 and i%5 == 0:\n",
    "            ans.append(\"fizzBuzz\")\n",
    "        elif i%3 == 0:\n",
    "            ans.append(\"fizz\")\n",
    "        elif i%5 == 0:\n",
    "            ans.append(\"Buzz\")\n",
    "        else:\n",
    "            ans.append(i)\n",
    "            \n",
    "    return ans\n",
    "\n",
    "A = 5\n",
    "fizzBuzz(A)"
   ]
  },
  {
   "cell_type": "code",
   "execution_count": 7,
   "id": "558a7538",
   "metadata": {},
   "outputs": [
    {
     "data": {
      "text/plain": [
       "[]"
      ]
     },
     "execution_count": 7,
     "metadata": {},
     "output_type": "execute_result"
    }
   ],
   "source": [
    "#Leetcode 1365\n",
    "def smallerNumbersThanCurrent(nums):\n",
    "    total = 0\n",
    "    ans = []\n",
    "    a = 0\n",
    "    for i in range(len(nums)):\n",
    "        if nums[a] < nums[i]:\n",
    "            total += 1\n",
    "            a += 1\n",
    "            ans.append(total)\n",
    "            \n",
    "    return ans\n",
    "        \n",
    "nums = [8,1,2,2,3]\n",
    "smallerNumbersThanCurrent(nums)"
   ]
  },
  {
   "cell_type": "code",
   "execution_count": null,
   "id": "971d1af6",
   "metadata": {},
   "outputs": [],
   "source": []
  },
  {
   "cell_type": "code",
   "execution_count": null,
   "id": "921c2061",
   "metadata": {},
   "outputs": [],
   "source": []
  },
  {
   "cell_type": "code",
   "execution_count": null,
   "id": "fe9e57a2",
   "metadata": {},
   "outputs": [],
   "source": []
  },
  {
   "cell_type": "code",
   "execution_count": null,
   "id": "5f73ac4c",
   "metadata": {},
   "outputs": [],
   "source": []
  }
 ],
 "metadata": {
  "kernelspec": {
   "display_name": "Python 3 (ipykernel)",
   "language": "python",
   "name": "python3"
  },
  "language_info": {
   "codemirror_mode": {
    "name": "ipython",
    "version": 3
   },
   "file_extension": ".py",
   "mimetype": "text/x-python",
   "name": "python",
   "nbconvert_exporter": "python",
   "pygments_lexer": "ipython3",
   "version": "3.11.4"
  }
 },
 "nbformat": 4,
 "nbformat_minor": 5
}
